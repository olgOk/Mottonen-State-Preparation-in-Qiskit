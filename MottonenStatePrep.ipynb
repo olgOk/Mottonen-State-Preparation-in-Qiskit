{
  "nbformat": 4,
  "nbformat_minor": 0,
  "metadata": {
    "colab": {
      "provenance": [],
      "collapsed_sections": [],
      "authorship_tag": "ABX9TyNSzOVVIBnHkNYWPxkaGglj",
      "include_colab_link": true
    },
    "kernelspec": {
      "name": "python3",
      "display_name": "Python 3"
    },
    "language_info": {
      "name": "python"
    }
  },
  "cells": [
    {
      "cell_type": "markdown",
      "metadata": {
        "id": "view-in-github",
        "colab_type": "text"
      },
      "source": [
        "<a href=\"https://colab.research.google.com/github/olgOk/Mottonen-State-Preparation-on-Qiskit/blob/main/MottonenStatePrep.ipynb\" target=\"_parent\"><img src=\"https://colab.research.google.com/assets/colab-badge.svg\" alt=\"Open In Colab\"/></a>"
      ]
    },
    {
      "cell_type": "code",
      "source": [
        "# istall qiskit \n",
        "!python3 -m pip install qiskit"
      ],
      "metadata": {
        "colab": {
          "base_uri": "https://localhost:8080/"
        },
        "id": "avkLFQ3Arax3",
        "outputId": "8b99894c-5dc5-410e-a1f5-5acc13d89043"
      },
      "execution_count": 1,
      "outputs": [
        {
          "output_type": "stream",
          "name": "stdout",
          "text": [
            "Looking in indexes: https://pypi.org/simple, https://us-python.pkg.dev/colab-wheels/public/simple/\n",
            "Collecting qiskit\n",
            "  Downloading qiskit-0.38.0.tar.gz (13 kB)\n",
            "Collecting qiskit-terra==0.21.2\n",
            "  Downloading qiskit_terra-0.21.2-cp37-cp37m-manylinux_2_17_x86_64.manylinux2014_x86_64.whl (6.7 MB)\n",
            "\u001b[K     |████████████████████████████████| 6.7 MB 5.3 MB/s \n",
            "\u001b[?25hCollecting qiskit-aer==0.11.0\n",
            "  Downloading qiskit_aer-0.11.0-cp37-cp37m-manylinux_2_17_x86_64.manylinux2014_x86_64.whl (19.2 MB)\n",
            "\u001b[K     |████████████████████████████████| 19.2 MB 59.1 MB/s \n",
            "\u001b[?25hCollecting qiskit-ibmq-provider==0.19.2\n",
            "  Downloading qiskit_ibmq_provider-0.19.2-py3-none-any.whl (240 kB)\n",
            "\u001b[K     |████████████████████████████████| 240 kB 54.3 MB/s \n",
            "\u001b[?25hRequirement already satisfied: numpy>=1.16.3 in /usr/local/lib/python3.7/dist-packages (from qiskit-aer==0.11.0->qiskit) (1.21.6)\n",
            "Requirement already satisfied: scipy>=1.0 in /usr/local/lib/python3.7/dist-packages (from qiskit-aer==0.11.0->qiskit) (1.7.3)\n",
            "Collecting websocket-client>=1.0.1\n",
            "  Downloading websocket_client-1.4.1-py3-none-any.whl (55 kB)\n",
            "\u001b[K     |████████████████████████████████| 55 kB 3.7 MB/s \n",
            "\u001b[?25hCollecting websockets>=10.0\n",
            "  Downloading websockets-10.3-cp37-cp37m-manylinux_2_5_x86_64.manylinux1_x86_64.manylinux_2_12_x86_64.manylinux2010_x86_64.whl (112 kB)\n",
            "\u001b[K     |████████████████████████████████| 112 kB 45.6 MB/s \n",
            "\u001b[?25hCollecting requests-ntlm>=1.1.0\n",
            "  Downloading requests_ntlm-1.1.0-py2.py3-none-any.whl (5.7 kB)\n",
            "Requirement already satisfied: requests>=2.19 in /usr/local/lib/python3.7/dist-packages (from qiskit-ibmq-provider==0.19.2->qiskit) (2.23.0)\n",
            "Requirement already satisfied: python-dateutil>=2.8.0 in /usr/local/lib/python3.7/dist-packages (from qiskit-ibmq-provider==0.19.2->qiskit) (2.8.2)\n",
            "Requirement already satisfied: urllib3>=1.21.1 in /usr/local/lib/python3.7/dist-packages (from qiskit-ibmq-provider==0.19.2->qiskit) (1.24.3)\n",
            "Requirement already satisfied: typing-extensions in /usr/local/lib/python3.7/dist-packages (from qiskit-terra==0.21.2->qiskit) (4.1.1)\n",
            "Collecting retworkx>=0.11.0\n",
            "  Downloading retworkx-0.12.0-py3-none-any.whl (10 kB)\n",
            "Collecting ply>=3.10\n",
            "  Downloading ply-3.11-py2.py3-none-any.whl (49 kB)\n",
            "\u001b[K     |████████████████████████████████| 49 kB 5.8 MB/s \n",
            "\u001b[?25hRequirement already satisfied: psutil>=5 in /usr/local/lib/python3.7/dist-packages (from qiskit-terra==0.21.2->qiskit) (5.4.8)\n",
            "Collecting stevedore>=3.0.0\n",
            "  Downloading stevedore-3.5.0-py3-none-any.whl (49 kB)\n",
            "\u001b[K     |████████████████████████████████| 49 kB 6.5 MB/s \n",
            "\u001b[?25hCollecting tweedledum<2.0,>=1.1\n",
            "  Downloading tweedledum-1.1.1-cp37-cp37m-manylinux_2_12_x86_64.manylinux2010_x86_64.whl (943 kB)\n",
            "\u001b[K     |████████████████████████████████| 943 kB 51.8 MB/s \n",
            "\u001b[?25hCollecting symengine>=0.9\n",
            "  Downloading symengine-0.9.2-cp37-cp37m-manylinux2010_x86_64.whl (37.5 MB)\n",
            "\u001b[K     |████████████████████████████████| 37.5 MB 44 kB/s \n",
            "\u001b[?25hRequirement already satisfied: sympy>=1.3 in /usr/local/lib/python3.7/dist-packages (from qiskit-terra==0.21.2->qiskit) (1.7.1)\n",
            "Requirement already satisfied: dill>=0.3 in /usr/local/lib/python3.7/dist-packages (from qiskit-terra==0.21.2->qiskit) (0.3.5.1)\n",
            "Collecting shared-memory38\n",
            "  Downloading shared_memory38-0.1.2-cp37-cp37m-manylinux_2_5_x86_64.manylinux1_x86_64.whl (25 kB)\n",
            "Requirement already satisfied: six>=1.5 in /usr/local/lib/python3.7/dist-packages (from python-dateutil>=2.8.0->qiskit-ibmq-provider==0.19.2->qiskit) (1.15.0)\n",
            "Requirement already satisfied: idna<3,>=2.5 in /usr/local/lib/python3.7/dist-packages (from requests>=2.19->qiskit-ibmq-provider==0.19.2->qiskit) (2.10)\n",
            "Requirement already satisfied: chardet<4,>=3.0.2 in /usr/local/lib/python3.7/dist-packages (from requests>=2.19->qiskit-ibmq-provider==0.19.2->qiskit) (3.0.4)\n",
            "Requirement already satisfied: certifi>=2017.4.17 in /usr/local/lib/python3.7/dist-packages (from requests>=2.19->qiskit-ibmq-provider==0.19.2->qiskit) (2022.9.24)\n",
            "Collecting cryptography>=1.3\n",
            "  Downloading cryptography-38.0.1-cp36-abi3-manylinux_2_24_x86_64.whl (4.0 MB)\n",
            "\u001b[K     |████████████████████████████████| 4.0 MB 34.1 MB/s \n",
            "\u001b[?25hCollecting ntlm-auth>=1.0.2\n",
            "  Downloading ntlm_auth-1.5.0-py2.py3-none-any.whl (29 kB)\n",
            "Requirement already satisfied: cffi>=1.12 in /usr/local/lib/python3.7/dist-packages (from cryptography>=1.3->requests-ntlm>=1.1.0->qiskit-ibmq-provider==0.19.2->qiskit) (1.15.1)\n",
            "Requirement already satisfied: pycparser in /usr/local/lib/python3.7/dist-packages (from cffi>=1.12->cryptography>=1.3->requests-ntlm>=1.1.0->qiskit-ibmq-provider==0.19.2->qiskit) (2.21)\n",
            "Collecting rustworkx==0.12.0\n",
            "  Downloading rustworkx-0.12.0-cp37-cp37m-manylinux_2_17_x86_64.manylinux2014_x86_64.whl (1.9 MB)\n",
            "\u001b[K     |████████████████████████████████| 1.9 MB 2.7 MB/s \n",
            "\u001b[?25hRequirement already satisfied: importlib-metadata>=1.7.0 in /usr/local/lib/python3.7/dist-packages (from stevedore>=3.0.0->qiskit-terra==0.21.2->qiskit) (5.0.0)\n",
            "Collecting pbr!=2.1.0,>=2.0.0\n",
            "  Downloading pbr-5.10.0-py2.py3-none-any.whl (112 kB)\n",
            "\u001b[K     |████████████████████████████████| 112 kB 74.6 MB/s \n",
            "\u001b[?25hRequirement already satisfied: zipp>=0.5 in /usr/local/lib/python3.7/dist-packages (from importlib-metadata>=1.7.0->stevedore>=3.0.0->qiskit-terra==0.21.2->qiskit) (3.8.1)\n",
            "Requirement already satisfied: mpmath>=0.19 in /usr/local/lib/python3.7/dist-packages (from sympy>=1.3->qiskit-terra==0.21.2->qiskit) (1.2.1)\n",
            "Building wheels for collected packages: qiskit\n",
            "  Building wheel for qiskit (setup.py) ... \u001b[?25l\u001b[?25hdone\n",
            "  Created wheel for qiskit: filename=qiskit-0.38.0-py3-none-any.whl size=12147 sha256=7e1c4564c7566378bc9aa8a9ee7324cd0444b43d98fa6bc0f2bffda84afdd22b\n",
            "  Stored in directory: /root/.cache/pip/wheels/0b/30/78/04c91b7e82655f191b8f6238b6e74af67f3cc618cfca429189\n",
            "Successfully built qiskit\n",
            "Installing collected packages: rustworkx, pbr, tweedledum, symengine, stevedore, shared-memory38, retworkx, ply, ntlm-auth, cryptography, websockets, websocket-client, requests-ntlm, qiskit-terra, qiskit-ibmq-provider, qiskit-aer, qiskit\n",
            "Successfully installed cryptography-38.0.1 ntlm-auth-1.5.0 pbr-5.10.0 ply-3.11 qiskit-0.38.0 qiskit-aer-0.11.0 qiskit-ibmq-provider-0.19.2 qiskit-terra-0.21.2 requests-ntlm-1.1.0 retworkx-0.12.0 rustworkx-0.12.0 shared-memory38-0.1.2 stevedore-3.5.0 symengine-0.9.2 tweedledum-1.1.1 websocket-client-1.4.1 websockets-10.3\n"
          ]
        }
      ]
    },
    {
      "cell_type": "code",
      "source": [
        "#imports\n",
        "import numpy as np\n",
        "from qiskit import QuantumCircuit\n",
        "# from qiskit.providers.aer import QasmSimulator\n",
        "\n",
        "# from qiskit.visualization import plot_histogram, plot_bloch_vector\n",
        "from typing import Tuple, Any\n",
        "import math\n",
        "import cmath"
      ],
      "metadata": {
        "id": "dpDY3bjPlJZs"
      },
      "execution_count": 2,
      "outputs": []
    },
    {
      "cell_type": "markdown",
      "source": [
        "# Mottonen State Preparation in Qiskit"
      ],
      "metadata": {
        "id": "e7i_deezmHxQ"
      }
    },
    {
      "cell_type": "markdown",
      "source": [
        "Mottonen State is a quantum state prepared through uniformly controlled rotations. A uniformly controlled rotation with $l$ controll nodes and $n$-th target qubit can be expressed as the composotion of all possible controlled rotations on the target qubit as described in [Mottonen et. al., 2008]. In this work, I used the basic quantum gates such as $CNOT, R_y(\\alpha)$, and $R_z(\\alpha)$ avaliable in IBM Qiskit to decompose a uniformly controlled rotations.\n",
        "\n",
        "For example, if a uniformly controlled rotation has 2 controlled nodes, then its decomposition is two $CNOT$ gates and a rotation gate $R_a(\\alpha)$ applied on the target qubit. \n",
        "\n",
        "![UnitaryDecomposition.png](data:image/png;base64,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)\n",
        "\n",
        "where $R_a(\\alpha)$ is the one qubit rotation around the axis $a$ on the angle $\\alpha$. Using IBM Qiskit, these gates are $R_y(\\alpha)$ and $R_z(\\alpha)$.\n",
        "\n",
        "\n",
        "The idea behind the Mottonen State preparation algorithm is to apply a sequence of gates such that this sequense transforms an input state $|a>$ to the other state $|b>$.\n",
        "The algorithm of preparing the Mottonen state consists of three core steps.\n",
        "First, one has to equilize the phases usign the cascade of uniformly controlled $z$-rotations. Secondly, one has to apply uniformly controlled $y$-rotations to to bring the input state to some fixed state $|e>$. Finally, one has to prepare the other circuit that transforms the fixed state $|e>$ in to the desired state $|b>$. The fixed state $|e>$ can be any of the basis vector."
      ],
      "metadata": {
        "id": "TNxki-d24pDn"
      }
    },
    {
      "cell_type": "markdown",
      "source": [
        "## Gray Code\n",
        "\n",
        "First, I used Gray Code [1] as described in [Mottonen et. al., 2008] to generate all posible controlled rotations on a qubit. The algorithm for generating Gray Code representation consists of 1)finding binary of a numbers from $1$ to $n$, and 2) converting it to a string representation.  "
      ],
      "metadata": {
        "id": "IaWKB2pvB1qn"
      }
    },
    {
      "cell_type": "code",
      "source": [
        "def get_gray_code(n:int)->np.array:\n",
        "  \"\"\"\n",
        "    Generates Gray code representation of a number using logical bitwise operations.\n",
        "    Gray code representation is used to get the position of control nodes. \n",
        "\n",
        "    Args:\n",
        "      n: number to be represented as binary. \n",
        "    \n",
        "    Returns:\n",
        "      gray_binary: (np.array of strings) binary reflecting Gray code representation.\n",
        "  \"\"\"\n",
        "\n",
        "  gray_list = []\n",
        "  \n",
        "  for i in range(1 << n):\n",
        "    gray_binary = bin(i ^ (i >> 1))[2::]\n",
        "    gray_binary = gray_binary.zfill(n)\n",
        "    gray_list.append(gray_binary)\n",
        "\n",
        "  return np.asarray(gray_list)\n",
        "\n",
        "# unmute for testing \n",
        "# get_gray_code(3)"
      ],
      "metadata": {
        "id": "uH2Xsiy5KbD-"
      },
      "execution_count": 3,
      "outputs": []
    },
    {
      "cell_type": "markdown",
      "source": [
        "## Computing Phases\n",
        "\n",
        "Secondly, I computed the phases $\\omega_i$ required to apply controlled $z$-rotations ($R_z$) to render the vector real up to a global phase."
      ],
      "metadata": {
        "id": "POXc5kuzEHtQ"
      }
    },
    {
      "cell_type": "code",
      "source": [
        "def get_phases(state: np.array) -> np.array:\n",
        "  \"\"\"\n",
        "    Calculates the phases omega_i used in transforming the given state vector \n",
        "    to the first basis vector.\n",
        "\n",
        "    Args:  \n",
        "      state: (array-like), the state vector which is transformed to the first basis vector.\n",
        "    Returns: \n",
        "      omega_phases: a np.array of floats, the phase angles for the given state vector.\n",
        "  \"\"\"\n",
        "\n",
        "  omega_phases = np.empty(len(state), dtype=float)\n",
        "\n",
        "  for st in range(len(state)):\n",
        "    omega_phases[st] = cmath.phase(state[st])\n",
        "\n",
        "  return omega_phases\n",
        "  \n",
        "# unmute for testing\n",
        "# get_phases(state)"
      ],
      "metadata": {
        "id": "aBhvhiBWSydw"
      },
      "execution_count": 4,
      "outputs": []
    },
    {
      "cell_type": "markdown",
      "source": [
        "## Obtaining $\\theta_i$ Angles from $\\alpha_i$ Angles \n",
        "\n",
        "Thirdly, I converted angles $\\alpha_i$ from the input state to new angles $\\theta_i$ used in the single qubit gate rotations $R_z$ and $R_y$ as given in the equation 3 in [Mottonen et. al., 2008]:\n",
        "\n",
        "\\begin{align}\n",
        "        \\begin{pmatrix}\n",
        "        \\ \\theta_1  \\\\\n",
        "        \\ ... \\\\\n",
        "        \\ \\theta_l\n",
        "        \\end{pmatrix} = M_{ij} \\begin{pmatrix}\n",
        "        \\ \\alpha_1  \\\\\n",
        "        \\ ... \\\\\n",
        "        \\ \\alpha_l\n",
        "        \\end{pmatrix}.\n",
        "    \\end{align}\n",
        "\n",
        "where $l = 2^k$, and the entries of the matrix $M_{ij}$ are derived as\n",
        "\n",
        "\\begin{align}\n",
        "  M_{ij} = 2^{-k}(-1)^{ b_{j-1} ̇g_{i-1}}\n",
        "\\end{align}\n",
        "\n",
        "where $b_{j_1}$ and $g_{i_1}$ are the binary code of the integer $(j-1)$ and reflected Gray Code of the integer $(i-1)$, respectively [2]. The number $k$ is the number of controll nodes. \n",
        "\n",
        "The bitwise dot product of $b_{j_1}$ and $g_{i_1}$ is described in [4].\n",
        "\n"
      ],
      "metadata": {
        "id": "XxQrW_CtHIgV"
      }
    },
    {
      "cell_type": "code",
      "source": [
        "def numberOfSetBits(n):\n",
        "     n = n - ((n >> 1) & 0x55555555);\n",
        "     n = (n & 0x33333333) + ((n >> 2) & 0x33333333);\n",
        "     return (((n + (n >> 4)) & 0x0F0F0F0F) * 0x01010101) >> 24;\n",
        "\n",
        "\n",
        "def get_m_matrix_entry(i:int, j:int, k:int)-> int:\n",
        "  \"\"\"\n",
        "    The matrix entries defined as M_ij = 2^(-k) * (-1)^(b_(j-1) * g_(i-1))\n",
        "\n",
        "    Args:\n",
        "      i: (int), the row number.\n",
        "      j: (int), the colunm number\n",
        "      k: (int), number of control nodes.\n",
        "    Returns:\n",
        "      m_ij: (int), the entry of the M matrix in i-th row and j-th column.\n",
        "  \"\"\"\n",
        "\n",
        "  bitwise_dot_product = numberOfSetBits((i) & (j)) % 2\n",
        "  m_ij = (2 ** (-k)) * (-1) ** bitwise_dot_product\n",
        "  \n",
        "  return m_ij\n",
        "\n",
        "# for testing\n",
        "# get_m_matrix_entry(2, 2, 2)"
      ],
      "metadata": {
        "id": "gS3olh77P870"
      },
      "execution_count": 5,
      "outputs": []
    },
    {
      "cell_type": "markdown",
      "source": [
        "## Calculating Angles for $R_y$ Gates\n",
        "\n",
        "The angles $\\alpha_{j,k}$ for the $R_y$ rotation gate are calcualetd through the magnitudes of the input vector as defined in the expression of the equation 8 in [Mottonen et. al.]\n",
        "\n",
        "![alpha_y.png](data:image/png;base64,iVBORw0KGgoAAAANSUhEUgAAAaUAAABSCAYAAAD0Msu7AAABQ2lDQ1BJQ0MgUHJvZmlsZQAAKJFjYGASSSwoyGFhYGDIzSspCnJ3UoiIjFJgf8bABYQcDGYMhonJxQWOAQE+QCUMMBoVfLvGwAiiL+uCzNJq32/7yl35LvNH6172OMlaTPUogCsltTgZSP8B4rTkgqISBgbGFCBbubykAMTuALJFioCOArLngNjpEPYGEDsJwj4CVhMS5Axk3wCyBZIzEoFmML4AsnWSkMTTkdhQe0GAx8XVx0chwMjE0NKDgHNJByWpFSUg2jm/oLIoMz2jRMERGEqpCp55yXo6CkYGRkYMDKAwh6j+fAMcloxiHAixlKcMDMa5QEENhFiWAAPD7m8MDIJbEWLqD4HemsvAcCCgILEoEe4Axm8sxWnGRhA293YGBtZp//9/DmdgYNdkYPh7/f//39v///+7jIGB+RZQ7zcAWQVfEMG4UUsAAABWZVhJZk1NACoAAAAIAAGHaQAEAAAAAQAAABoAAAAAAAOShgAHAAAAEgAAAESgAgAEAAAAAQAAAaWgAwAEAAAAAQAAAFIAAAAAQVNDSUkAAABTY3JlZW5zaG90z27ugQAAAdVpVFh0WE1MOmNvbS5hZG9iZS54bXAAAAAAADx4OnhtcG1ldGEgeG1sbnM6eD0iYWRvYmU6bnM6bWV0YS8iIHg6eG1wdGs9IlhNUCBDb3JlIDYuMC4wIj4KICAgPHJkZjpSREYgeG1sbnM6cmRmPSJodHRwOi8vd3d3LnczLm9yZy8xOTk5LzAyLzIyLXJkZi1zeW50YXgtbnMjIj4KICAgICAgPHJkZjpEZXNjcmlwdGlvbiByZGY6YWJvdXQ9IiIKICAgICAgICAgICAgeG1sbnM6ZXhpZj0iaHR0cDovL25zLmFkb2JlLmNvbS9leGlmLzEuMC8iPgogICAgICAgICA8ZXhpZjpQaXhlbFlEaW1lbnNpb24+ODI8L2V4aWY6UGl4ZWxZRGltZW5zaW9uPgogICAgICAgICA8ZXhpZjpQaXhlbFhEaW1lbnNpb24+NDIxPC9leGlmOlBpeGVsWERpbWVuc2lvbj4KICAgICAgICAgPGV4aWY6VXNlckNvbW1lbnQ+U2NyZWVuc2hvdDwvZXhpZjpVc2VyQ29tbWVudD4KICAgICAgPC9yZGY6RGVzY3JpcHRpb24+CiAgIDwvcmRmOlJERj4KPC94OnhtcG1ldGE+CrcjXJEAACEfSURBVHgB7Z0J/GZT/cePJWqEZB9Tg4pKYynFRLbMhBBhRAuNXRKRJfs2QqWUGokyRTOWpBmKGtIYCi9kRigzlTWmxZItcv/f9+F7//e5v7ud57nPM/d55vt9vX6/5y7nnHvu55x7vsv5nu9ZKBJyRoaAIWAIGAKGQAMQWLgBdbAqGAKGgCFgCBgCHgFjStYRDAFDwBAwBBqDgDGlxjSFVcQQMAQMAUPAmJL1AUPAEDAEDIHGIGBMqTFNYRUxBAwBQ8AQMKZkfcAQMAQMAUOgMQgYU2pMU1hFDAFDwBAwBIwpWR8wBAwBQ8AQaAwCxpQa0xRWEUPAEDAEDAFjStYHDAFDwBAwBBqDwKKNqYlVpHEI3Hbbbe7ll19uXL2sQvMfgfe85z1uySWX7FpF/vOf/7hZs2Z1rXwruHsIrLPOOm7YsGFtP8CYUtvQDU7Gk08+2U2ePNktssgiLS81YsQIN3z48JZrdmIIgMBRRx1VG1Padttt3d/+9rcWYP/3v/+5UaNGuTe+8Y0t1+2k+Qgcd9xxbtVVV227osaU2oZucDLOnj3bTbn0UjdKpF8jQ6DXCMCQTCvqNerNfZ7NKTW3bdqq2ZQpU9wRRxzRVl7LZAgYAoZApwjcLWbXcePGObTddsiYUjuoNTTPH//4R7fffvu53XbbraE1tGoZAobAoCOwtphd//nPf7qvfe1rbb2qMaW2YGteppdeesntvvvubt9993Xrrbde8ypoNTIEDIEFBoGJEye6CRMmuDlz5gS/szGlYMiamYEO8OSTT7qTTjqpmRW0WhkChsACg8A73vEOd/jhh7u9997bhe4ja0xpALrJQw895E488UR3/PHHuze84Q09eSPsxUcffbS7+uqr23oeEtT999/fVl7LZAhkIYDDxMEHH9yWdJ5Vnl3rDAGYElMK559/flBBxpSC4Gpm4mOOOcaNHDnSffrTn669gqwXueiii9w3v/nNFiai7uOvRK8EP3PqtKnuhBNOcFdeeWVwXstgCDz88MN+vmLSpElu3rx5MSB8A3fdeZdbbrnl4mt2MP8QeP3rX+8OO+ww73j12GOPVa6IMaXKUDUz4RNPPOF+9KMf+YZ/3ete11YlH3/8cfesMJ80/fe//3X77LOP22KLLfy6g0022cT98pe/jJPNvGmmG73haP98GFdV2m7b7dxHPvKRqskt3YAj8Mwzz1R+w1myfOHss892n/zkJx39lkW8jzz6iM//3HPPuZdefsnRbxGiZsyYUblcS9gdBA488EBf8Le+9a3KDzCmVBmqZiZEWoQ60ZIw//GBp+m3v/2tu+WWW9xb3vIW97GPfcyNGTPGa02kYwCYM3eOO/fcc92WW27pHnnk1YEBzeqqq64a8jd9+vR08XZuCHgE8NSqSpN/8hP373//26200kruS1/6klt00UXd1dNeNSHfdNNN7vnnn3c//elP3UYbbdSiRVUt39LViwCLnxEgLrjgAoczVhUyplQFpQanQUNB6+gk5Mtaa63lzX/p19x8883db37zm/gy80BMYEIMAJtttpm338O8dt111zjdsssu69J/K6y4YnzfDgyBJAJEDqlKrME788wzfXI0rEcffdS9/e1v9+c33HCD+8QnPuEQ1JZffnlHuBuj+Y8AAi0WHYTVKmQRHaqg1NA0t99+uyMaw0EHHdRRDXGOWEQkzjQxb6ThQn784x/7xXC6MPfmm292n/rUp9wI0aJOkTBF2IwPOeQQHxZm4403ThfVcv7rX//a/fznP3dPP/20W3PNNd2OO+7Yct9OFiwE0Haq0tJLLx0nPfTQQ93nPvc5b17m4h133OEuu+wyt9RSS/k5pzFjx7i3ve1tcXo7mD8IILzSbuedd57beeedyysh7npGfYqA2GsjaeFIGEJHb7DLLrtEsgo7t4wrrrgikjVQ0bPPPhuJxOPTvfDCC3F6MZnEx3ZgCIQiIPNCoVkiEY6iM844I5KAwdE//vEPn9/6ZDCMPcvAGMNY9cADD5Q+08x35Xy7kSlefPFFd/HFF7sNN9zQ29e7VUkkT0x4TBzLx+9OP/10/6jFF188fiReNkaGQK8QQFtHwx4/frx3vNFlCdYne9UC4c/ZfvvtfSacssqout5cVpLd7ykCU6dOdU899ZTbYYcduvbc3/3udz6GFQ9Q75mzzjqra8+zgg2BMgQIXZPug5ixjZqNAJHgoWuvvdadeOKJ/jjvnzGlPGQafv33v/+9r+F2223XtZqihYmu3bXyrWBDIBQB1r3wZ9RfCLzpTW/yjlFYXfDQLdqSxMx3/dW2cW3vvvtuf4wZw8gQMAQMgaYj8N73vtdXsUyzNabU9JbMqd9dd93l3bM1skJOMrtsCBgChkAjEFBPyFtvvbWwPsaUCuFp5k0cDvD7X2ONNWqr4KKpXWdrK9gKMgRKEMC0YzT4COgaR516yHtjm1PKQ6bB19V0p4sG66jqyyUbct17770Oj786aPkVlnerDF+ljqKsjAFAgOj2WUSkB6KN1EVrr722W3hhk8PrwjO0HBWiy7azMKYUimwD0v/hD3/wtdBG7kWVWACHdgYh8bBivogI98KEJh6Cmk/Ts9Ie86ORIVCEwOWXX+7233//OMkHP/jB+DjrgDA29DsiPRAxPE2y3s59/OMfT1+28x4hQLgy6K9//av/zf1XupIpIAEL2Yy6j8BnP/tZvxDtuuuuq+VhZYtneYisV/LPlI4USay76JVXXqn8bGFMkQRyjSS4a1yGhISpnN8SDjYCeYtnRTOP1l9//bjP3HjjjZWBoH/KtgmRxGaMKJ9+K4JV5fyWsDsIiEDr20IXPGc9pTZd9rbbbnNEhCUQIsR+O+uuu27lIHw+k/2rhMCsWbN8ul5qSoQHYat1iDBB6bUi/kbOP8K+EJ/ve9/7nvv73//uxo4dG697ysniL4dEjy4qx+5VR4DQT0nK27okmSZ5jGYsA03yUtvHiy22mLvkkkt8iBoK2W233fw221UKXGihhdy73vUuPyZh7iZMFu7IErkkM3v6vTMTLeAXJWJGy3ge2jeAT8esv/zlL7lo1saUiMz7hS98IVbN7rzzTh9Jut3tFHJrbDfcgw8+6FFYYYUVeorGN77xDb9VAA898sgjHYtrQ2lFCcx6zTXXuHlPzIvfI6sMzHuf//zns27ZtS4iQLR57V9lW5dkVYOI8QgedRGmYl24TfDVPffcM7hoGBSRqqdNm+bOkcgkWZR876z7ds257373u15IAIt2+gb5hg8fzk/MJ/xJ6l9tTInwM1OmTPHbGPCM66+/Pg6UmHpmo08vvPBCv00Di1LRBuqQoNgD5gMf+IAr88+vCozO0fRql1mtF+GEaGMlPvR28MGN/YILL3BPilSdR2jaYoLJu23Xu4RAEveirUuyHn/fffc5GMDKK6+cdbvtazAM3ZrFM5ZzzmmrrI9+9KNum222ycybfO/MBHbRW7/ACQrtGwqfjllsP5JHtTElHkCUXiQl6Fe/+pVj64N+olNPPdVv30tMuYnnTXQ/+MEP/PswedoJPSMmEcybuudQJ2WhMs9Peve73+2j/VKHuXPnur333rut6iABrz1qVFt5LVNvECjauiSrBsQ1+8xnPpN1q+Nr3/nOd+JtU7DItOsoY44OHTeFLyC0b+hThw0b5g8luLNeGvJbK1Ni3uBnP/uZN+0w79BvTOmrX/2qw22UEBi4LOP5AzNB6+uE8BpC6mdfkU5J51l6bbpL1nvfffeNvZgI2MoGXkaDh0DR1iXpt2Ueib7AfkbdIL7JyZMnx0WPGzfOe3fGF+ygpwiE9I1kxVRTqo0psdsoJih+0zRv3jx/iQGKcBJITPNz4EzXr+xcd0W89NJL46Q4akDMjymRDibFfIqqssl7XJ86bapj7QVreyB2dZ19zz3xTphoO/jq66Qri2Ex8WkdtLysX2VKIXvQZJXT6TXaeeTIkb4YtCV9107LrZKfOQ/2bzLqDQLMF//iF7/wjgJ5VgPxjPOOBcstt1zXKsW48vWvf92X/+c//7njfcSqVJS5E77T9LdeJe+CkKZK30jiUJumxCAKk8Guy46j2GZVe8COjH2QdQGsAyAKLBLNOW3afZMvkHfMIk48Qcr+QryAcMigoyPtKbGRHbTVVlv5Xz5MNqR79rln3fe//333/ve/P2Y0mo4QGksMW8IdcMAB7stf/rLPt9dee3lTlZb9E9nS+cMf/rDbeaedvFZ5yimnuNPEdMgOsHkfvS9I/r0oHwm0xBJL+N+6/oVGdGAVPp5RSkiutEc3Cea+6aab+g3cTjrpJN8ubIlt1D0E6LN4raW3Lkk/EdOdzvuk75Wdh0R0YGM/xh+IXZcxtXeL2JSO/jZdrD5YOTBd1+nE0a1696rcqn0jWZ8qTAn3zUISScGvFZAOF69NkY4QiRdFJNJDxHWR3n0Z999/f6VNnAofWHKTDe2EGfg6sYah6E86VUlp+bfZ0A6ferFBx4nENBGJduDPWZMlmmB09NFH+/OZM2f69GACiabUknf11Vf3ayb8Tfknmob312cDPYg1GdJ4kZg//XneP5m38+lkAWpekuDrVdYp5RUq83C+PtSdTQfrItHIfd/S8oTheXyPPfZYf4l1KLKbZSRh8DVJ/Mv6FPHUis97dUCdxGxd+XH0oaOOOiqSyfvKeZIJRRiM6Hd1kgz4kbjr+iJvueWWuG1pX/7E+WfI40SQ8t8FfbgdylunlFeWWGX8+EN96ANidchLWvl68r3JxPfJ960baJ599tn+/emHaQpp83TeKueh5cvSi0i2+KhSdFAa2h5coKp9I/0AHfdEUE/fis9LIzpIY3iTHRtp4VkDEZka90xiGOGRpWHI1QfdJ+rSv5VWWsmVBfSr49FIZMsuu6z74Q9/GBd3smz7TdgTJHbWPgijcQ8//LC/z1wUXnHygXmpivk1WbgX51UJQS+opqP7jLAmA3Mn6zyK6E9/+pO/3RTzlTBlrzWjOTMZzRqkOubO0hjQD8FXtU9C0IDVFlts0ZJUBlQ3adKkeDNC2gePQSJQbL311pmRKFg/teuuu8brYVoKLDhhZfr06dMdmjDE98EEPG3DVvFKmH5w/MERCMlb1/JpMN1XonAvQ0xKV0jEA8zFWCfySL70+LtNpzn44IO9F1We00DVrUvY2p7+Th/uBWEiRDPD2kAfoO3AQfHstA6YyOnXbLXOeANhbqevJTcS5DrOUdtnzBXLwnb/PesUAGmrEM8+//zz/XIIXU7DM3HuQFtNEu2GN+I6667jxmw5xo/F3BfBubBPaBm96Bv6LP3FOQpSK5ReT/6WOjpcddVVvsMl54dYawIx4T2I5hMaH3MkA8mSSy4Z40XcLMxGOEAwQMKQ1dYMY2b9DQwbt3KcPCZMmBDnzTpg3/r0hyzSc1bS+Bpea5C2QXyj5EDXnpQkC74NJixM1P5RNIEZXHgiA5saMqDrRCkmJYiBU4mPjPmtY445xl9ing5mhus6ggQCwyOPPqLJ418GnNCYaLQtA1dS8KBA9vphwEyaeQ455BDPDBm4WXul9SP9zJtmutEbjvZ5MEdVJTwXJUJGaXLM6AzYWcSgjuDVKSEEFHndYd6v22sUBqECCmbjOpcPgBfft+6WCj70N4kI0QIVwg4MI8uLFOFIhfiWTAUnmMNgcvShpCl844039uZ65qqVJk6c6O6ReWpMppdcfIkbO2as3nISLcVttvlmflde2TI+dzFzL/pGXKnXDka95nHLt5hHpUwJaTDN7VVawNNGB8nkA5ibufLKK5OX4mMmxihP56TiGxUP+NjJz8uV/WETDiU6hqimjkEQRiOmIC+hMODxEWNX5t0Y6N785jf74hn8eC+0R+4hKTMwsegv2blC65KVXplkSLlouTDTbhFOFzALMUW53XffvSuPeeCBB9wGG2wQl80gwcDE/KJ+rHyMTIar5j5Z5u4YEJF2EZ6o59XTro7L4AChgg9XcW25WXDCgIgknUV8FzBDCKegb3/7237wf9/73ufzqPbNvTlz53jGxlKK5JIBtB8EwvQf7xtCOM+o4JTO5wev1ECbTlN2joMT2rtqf1npYeB540FW+qrXaDOEIfq3ahVV8xalk2kIfxvrB8Q7zpZvHKaEI5QyQOaVswQD8Cb6CTEeQ0jM6L4vZuVBAZhw2oT4FuMLAixa0WmnneZm3DTDz4mTAO39hutv8PcYJ/IE3W73jbiyiQPti0R5yaNS8x2SKB+2Eh+FfnA0El5XhPNIEiauPE8yTDvjx4/3DCWZp+oxA0yeuaFqGXnpGOgOOuggL8miQtP5aODxe433q9zRnlgEC/F+SFR8jEyEkhYHBsLxIHXznjBsZeDglhxQ6CyYHsinUjr3YX5FpAMuXkFVCckcRkmd6/x4eT7vgUTJgFumGVatb1Y6BBHVKjEBoJ2hdTBoK8ZIrjiiKB1xxBFxP8QsgtCgkdX5OGCiCF04mMjclGbr+Jct6tGUYXaYbWGoq666qi8XgU3rgNMQ3xCaGosRMUMpoUWriVevYZ6qs/3o7zDMTghnF8L/5BEaKkst6CPtOkJklY0Q+JWvfMVbM9761rdmJWn7Gn0Z/FXTwWwP8e0jdOHUg3CM9pd20kCDgYHB2LC01EX0H5ygGIuXWWYZ70ym1gn6FPXlHEEHJoQlBXM6kVfo66H9po6+kfXuyheK6lPKlOhQfCx84Jir8LYjxh3qLWFn+HBU8qMSDKp8aDrQpiuGezWhJjTKNIDVZQtOPyvkHLAYTGAU2G+TJJOGXupA+lHTHp0OrzlMOHROGC1ljBkzxm2yySZ+kJFJeT9oM1DScciLPZwBkjIhBi+OkeR5NgM7zAmMs0gHqjIvPc3LoI3QQGRxOhr1q4toa8w2tCFeUPoR11V+shyw/OIXv+gjSBD7D5xgQtimkZQhGMwqI0bE2fhQlZgjRLNBu4KQ3BEcmJtKeorSTnlRKhgMmEcsI9Il5/x0czMEODRxtHCIujP3NEKiJ58iAx95MPVBSbOkv5D6x3fI4m7MRNSf+SEIIQGzjhJzavRVvl0IbREJnsENvFTI0vShvwgHyfVD6fy4cLNgFSbCd6JCVTpdyDnLUvje1AM2JG+VtGDCXO8ee+zhhUbaAk9bmKp6/oG7hszRMjGRY75Gc4FZ6dgGA0tqwZqeX22P5LW8YwRyBDKYpkbchgnxbcAM6e/6jfOt0L+x1sC8oV73jaz3oA5QUT8oZUqrrbaa1wjowDASNXPAeLDPJ/fFmTFjhu+g4hHkg3ZmrVnAbMfcAB0LVRg3cjQfLTfrRXpxDc6dt6+LPp+GR7Oh86nki8oNwDASOjKMCYkcJq4SvETI1iLi3zTTwZRShZQpIRSUEUwDjJnjwp2drQDqZEp8DDid8KeDXlmd2r3/oQ99yGut//rXv2LsGSAIaaMa1PPPPZ+paSIt4oSDrR4mxDwKGi3Ex4vNXgmNJclQ9Dq/mEqqMKUsbRcTF4yRReX6QSLQaB9hXiYEw3e+851eE0MbSxJr3mhrJRghAxd9EqKfY8/nPRncFDtNH/JL2eRXppvOy/iA1H744Yd7poRDRKfmXb492h3stA3Tz+30HCEZZosGi8ZBe8EE6XsjXhN6EAoZC5KExkYfQxBEMFVhG80pb14PpkR7aNpkeelj+lXymTB5GCVMcPTo0Z7p8J3wR3nUg18VFnvZN9J113MEcqhwvJcXrY1Ew/BlrbfeepEwqMxyxQPKb30gJsAId3Mxm3jX8szEdjETAWlT754qHTTzvl4EX1zIIRkMvIurDBJ6O/5txyVctGPvjiteYHE5dR6kXcKrlM17CBNuSSoaqHdjxY0Y12txJmi5T18VgaDlWtUT+jj50yTSrHdf1+syeEeihUciXUciNfstPPRet39x4xUz4ZDHCDOOZJ5xiOtw2jV6SMbEBWEMkQTpTFxpPRQG4l2q6acsIQGDLJJBOevykGuiwUYshWDrlrop5L15Nm0qFojMaojwEZ1wwgmZ96pc5PvmXdMkQpHvP1yXwd0vOWFJgAiofmkKeIdQaN9IuoSHPCeZ9vjjj/djl1iNkpdbjheGa9VFmPPQNjDRoe6mCXUWkwXSLdIcqq40Xq6pL53fzl9FQG3JZSY8pGIZNH0mpEq0K1bed0qYCPaUaM2Yz0YVeNEUPQetE0muTsI0h2OKEmZR+ZC8yzZaPpos80dK2leRMkOJ+lM2Zhm0YpxdlGbfMzvWvtBSsAwQfgurAyYY1Vo0/fz4ZRKf7zRkbjJZTxlFvOadnAdL3ucYExPvi6RO/wMDpPt2iLEDqwSm0XYcmHgmpqOdZMF6HYSmSttSrzTxfWBJCiWcW5jThjDjJr8PNAy0HvW6ZR4Pkyhz2owHzB+pSS/0uen0nfaNdHnJc7RNqNDrs4VF1XDC4k9pkLgkpDRxEPDnEkculi5kgIhERY7E5hxlSe9xAXYwBAGkc2nXSCaRh9zLuyAMzGs2Mi82JEmIpiTzE74cNk9rl1h4h9Qng0RuESyAlQ80937WDZkn8YupkSKLCG2FxdHiwRTJBHxR0rbugSfv2ATKk4apGwu80yRepfGC0fS95LnMabUsbk7eyzpGq6TPyvzTkNtVNCX6AovZaeN2iDGGdxNzZ2b2qu+dzIyVR78DYVBei2GsQyss6tvJMqoe8xyZG6qavFK60L4hgtgQS0SlByUS8W3QD8SBLHG19RAbfK2UVl2JiEBFIJl0i0Sq9McyzxGJlBWJs4A/t3/VEQBTGjZ04ANvkaqGmEurMiV2iyQyBW3cDmG+EmcDX3dZ69VOEaV56FdlzIydc8UxIJIJ7EoDcOlDEwmI0CFzKIkr8/eQQbKMSfeihmrCS0ZI0eeWMSWxwPh+K3M8mqXyL8yICDSY/fhmZL6wct6yhAg2RJeR+fZI1hdFmABlLVokXndlWYPu04ayKN1PdwRlLEk8P/oGCgvtUCRQlzo6SAGlJO/uJ/9RH5nUZ5JQicl1XWCIT7+6Aopd2Kv0hRNeWoj9tiCAGQjCq6rMSyuZERMKJjcmuaVzJG+VHmPm2XGHV92tiYyAq3wRkR7zIms8pPP7aAbJyAMaBaGojHbu0a+YDMbjCdNRFuG6j5s2nqXaH7PStXONyf9uusaH1qlud+nQ52t6THh44eGCjtkrHeFE06V/WYOGKUu0Eu9pKIJNOkl8Tru/8OIL7umnnvYmUr4PHEvofxD9Nq9PxIUEHPAOLJhnjMPBgYgdOC0UrcEJKD5Oypgqc7i199X50TdoP8yNOgURv2TyoISZVrrNZBvmGFk3MmSCjzhMmO2M6kMAVV7a0MdNCykVEwP50FaSVEVTYnKZvHX8lUnGybrZ8eAgIPOZvv+IW3zLS+X1B3Ft96biOvocZaSf21IJO+k6AmiWtAOWiiKqRVNiohjXbrhferKNCTl1gZUKGdWAgLrgahy8qkUSdQFtiTU6rF9QV9Eq+ZnQZjfeOqiKW3Udz7EymoUArveMESxToB+WEeMGa7HqIlzJjeYfAmiukEbKyKtJLUyJwY01D1lkDCkLlc6uKdahTImnilbkzQ1EE2A9Q1UibpuRIdAJAiyox4SH+RRPuLJ1WZiX5oeJqZN3tLz5CGDahsqYUq0u4fnVsTt1IsCiZLQNFuVhRw+hbbbZxicnsoCRIdBrBBCKiFzCXIzRgoVAVU3JmFKf9gvVlnQSt+proLkirWJuFbtu1WyWzhCoBQHWbGHCM6GoFjj7qhC2+4EIal1ExpSK0GnwPfWeI6RTKLGAkAWcREMPIcKUMK9ExOJQYvEfcdA0IGNofks/GAiwAJQYkyyeTwYoLno7DXxMkORQIjyabCwXms3S14wAi4wJpUbcRQ2tlfcIY0p5yDT8Ou6tEBpPKOk+MUw4hxBmQ5ws0s4sZWUgFWftE1OWz+4PJgJqwsuKCZn1xix7IPpLejeCrLTJa7jmEyNPl6Qk79lxbxEgPiZmWyKsl5ExpTKEGnqftUqyFbwP3cK6jxDChAdjIuxLKBFChcjmIcQglA4cGpLf0g4WAqEmPMJBofGERjQv2vNqsBBt/tuoAFK0GaS+RS3ed1qY/fYWAcxoRFtn0riKi22ydjAKojbnRS9OptXj9OBAbK6iOS2WCmTFQNTy7HfBRIAFy5iBWXRaJfYe8Ro1ojnzoMS+K8q30847texesGCi3Ky3Znt4iUoRR1kvqp0xpSJ0Gn6PNWDsw8THHcqU1IRH3qqUHBzIs7qY8ooictS5er5qHS1dfyCAUMRcz7XXXVtaYeYidA6V5SdETShiSksv9f/7aJUWbgm6jgBbwSD8Fu27layEMaUkGn12jBkOxsS6DyaNyyYQk69HKBQWE8KUqppFkoMDZbUbITxZDzteMBEgojub0l1+WblQhMk4uUNucv+rBRO9/npr5vRoaxxcqpAxpSooNTiNBDb1u06y+yqu3iGEtEo+PKKqEDHz2D0XLzo2x2NzMcyHecQGZKF1yivLrg8WApjw6Btsv1AUB41dgNk1eZVVVvGRIOiz7NabN4/KAl0cHNZcc83BAqxP3wZhGa9JhOfKQnNRDCK71x8IiNQZET9M3C6DKsw2ANLX/V+VzfqIfycTlZFMWgY9h/QaHVx28IzY3sTIEBCBKO5/eWiImc5H4qbvhUb4ZgNCtiYRphex2WOVPp5XD7veHgISSNa3sewuXrmAhUjZp0zYqv0aAoQbQjJk4znZLykIl6222soRvVs+2ErmONw6UcWNDIFOEWBeCC0JCVq2MsgtjrVtSNwWsiwXokbegLWwyShhhSZNmlS5juYSXhmq5iZcY4013Omnn+5kq2GHuSOEqqwbSJZnDCmJhh13gsBiiy3mlyaUlYGpzxhSGUrNu4/ZDlf+0K1cjCk1ry3bqhH7uWB3Z5FqCO2446t7JIXksbSGQF0I7DJul7qKsnIahADRX2RDV8+QRowYEVQzY0pBcDU3MdIkLrayxbGbO3du5Yous8wy7thjj3Ur52yIV7kgS2gItIHA2DFj/SR4G1ktS4MRkN2X3QYbbOAOOOCA4FranFIwZM3OcNxxx/ldgC+66KJmV9RqZwgYAgOJADvw4lmJZy6hyULJmFIoYn2QnuCHVd28++B1rIqGgCHQRwjg4MCWOu2OQcaU+qixraqGgCFgCAw6AjanNOgtbO9nCBgChkAfIWBMqY8ay6pqCBgChsCgI2BMadBb2N7PEDAEDIE+QsCYUh81llXVEDAEDIFBR8CY0qC3sL2fIWAIGAJ9hIAxpT5qLKuqIWAIGAKDjoAxpUFvYXs/Q8AQMAT6CAFjSn3UWFZVQ8AQMAQGHQFjSoPewvZ+hoAhYAj0EQL/B7Bi5soIzRPIAAAAAElFTkSuQmCC)\n",
        "\n",
        "where $j=1, 2, . . . , 2^{n−k}$ and $k=1, 2, . . . , n$. $n$ represents the number of qubits in a quantum circuit."
      ],
      "metadata": {
        "id": "A0SEOUtoMYm0"
      }
    },
    {
      "cell_type": "code",
      "source": [
        "def alpha_y(state:np.array, n:int, k:int) -> float:\n",
        "  \"\"\"\n",
        "  Calculates the agles alpha_i sunbited to the R_y gate.\n",
        "  Args:\n",
        "    state: (array-like), the state of the input vector to be transformed.\n",
        "    n: (int), the number of qubits in circuit.\n",
        "    k: (int), the number of controll nodes.\n",
        "  Returns:\n",
        "    alpha :(float), the value of rotation angle (r_y quatum gate).\n",
        "  \"\"\"\n",
        "  \n",
        "  magnitude = [abs(st) for st in state]\n",
        "  magnitude = np.asarray(magnitude)\n",
        "\n",
        "  denominator = 0\n",
        "  numerator = 0\n",
        "  for j in range(2 ** (n - k)):\n",
        "    # construct denominator \n",
        "    for l in range(2 ** k):\n",
        "      index = (j) * (2 ** k) + l\n",
        "      denominator += (magnitude[index]) ** 2 \n",
        "  \n",
        "    # construct numerator\n",
        "    for l in range(2 ** (k - 1)):\n",
        "      index = (2 * (j+1) - 1) * (2 ** (k - 1)) + l \n",
        "      numerator += (magnitude[index]) ** 2 \n",
        "\n",
        "  return 2 * math.asin(math.sqrt(numerator / denominator))\n",
        "\n",
        "# for testing \n",
        "# state = np.array([2, 2j, 6, 6j]) \n",
        "# alpha_y(state, 2, 2)"
      ],
      "metadata": {
        "id": "Ym880N3pa8a-"
      },
      "execution_count": 6,
      "outputs": []
    },
    {
      "cell_type": "markdown",
      "source": [
        "## Calculating Angles for $R_z$ Gates\n",
        "\n",
        "The angles $\\alpha_{j,k}$ for the $R_z$ rotation gate are calcualetd through the phases $\\omega_i$ of the input vector and defined in the expression of the equation 5 in [Mottonen et. al.]:\n",
        "\n",
        "![alpha_z.png](data:image/png;base64,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)\n",
        "\n",
        "\n",
        "where $j=1, 2, . . . , 2^{n−k}$ and $k=1, 2, . . . , n$. $n$ represents the number of qubits in a quantum circuit."
      ],
      "metadata": {
        "id": "cbpv7vuikgLm"
      }
    },
    {
      "cell_type": "code",
      "source": [
        "def alpha_z(omega_phases:np.array, n:int, k:int) -> float:\n",
        "  \"\"\"\n",
        "  Calcualtes angles alpha_i submitted tot he rotation gate R_z.\n",
        "  Args:\n",
        "    omega_phases: (np.array), phases of the input vector.\n",
        "    n: (int), the number of qubits in circuit.\n",
        "    k: (int), the number of the control nodes. \n",
        "  Returns:\n",
        "    alpha_z: (float), the value of rotation angle (r_z quatum gate).\n",
        "  \"\"\"\n",
        "\n",
        "  numerator = 0\n",
        "  for j in range(1, 2 ** (n - k) + 1):\n",
        "    # construct denominator \n",
        "    for l in range(1, 2 ** (k-1) + 1):\n",
        "      expression1 = (2 * (j) - 1) * (2 ** (k - 1)) + l - 1\n",
        "      expression2 = (2 * (j) - 2) * (2 ** (k - 1)) + l - 1\n",
        "      numerator += (omega_phases[expression1] - omega_phases[expression2])\n",
        "\n",
        "  return numerator / 2 ** (k - 1)\n",
        "\n",
        "# for testing\n",
        "# phases = get_phases(state)\n",
        "# alpha_z(phases, 2,1)"
      ],
      "metadata": {
        "id": "U15Dp7RFTF7T"
      },
      "execution_count": 7,
      "outputs": []
    },
    {
      "cell_type": "markdown",
      "source": [
        "## Construct the Unitary Gates Sequence\n",
        "\n",
        "The function `apply_gate_sequence()` aplies the sequence of the $CNOT$, $R_y$, and $R_z$ gates. The contoll nodes are determined via the Gray code representation. The agles $\\alpha_z$ and $\\alpha_y$ are transformed to angles $\\theta$ using the defenition of the matrix $M_{ij}$."
      ],
      "metadata": {
        "id": "XCej75dkxc9n"
      }
    },
    {
      "cell_type": "code",
      "source": [
        "def apply_gate_sequence(q_circuit, gate, angle:np.array, k:int, target:int)->None:\n",
        "  \"\"\"\n",
        "  Applies the sequence of quantum gates based the Gray code representation for \n",
        "  the controll nodes.\n",
        "\n",
        "  Args:\n",
        "    q_circuit: an object of the class 'qiskit.circuit.quantumcircuit.QuantumCircuit. \n",
        "              A gate is to be applied on the q_circuit.\n",
        "    gate: a method of the  class 'qiskit.circuit.quantumcircuit.QuantumCircuit\n",
        "           a qiskit quantum gate object to be applied on the quantum circuit.\n",
        "    angle: (np.array) angle to be transformed using the M_ij matrix.\n",
        "    k: (int), a number of controll qubits.\n",
        "    target: (int), a node of the target qubit.\n",
        "  Returns:\n",
        "    None.\n",
        "  \"\"\"\n",
        "\n",
        "  # compute theta angles as discribed in eq. 3\n",
        "  size = len(angle)\n",
        "  matrix_M = np.zeros(shape=(size, size))\n",
        "\n",
        "  for i in range(size):\n",
        "    for j in range(size):\n",
        "      matrix_M[i][j] = get_m_matrix_entry(i, j, k)\n",
        "\n",
        "  theta_angles = np.dot(matrix_M, np.transpose(angle))\n",
        "  theta_angles = np.transpose(theta_angles)\n",
        "\n",
        "  gray_code = get_gray_code(k)\n",
        "\n",
        "  control_gates = []\n",
        "  for i in range(len(gray_code)):\n",
        "    # representing Gray code binaries as regular binaries through XOR operator\n",
        "    control = int(gray_code[i], 2) ^ int(gray_code[(i+1) % len(gray_code)], 2)\n",
        "    control = int(np.log2(control))\n",
        "    control_gates.append(control)\n",
        "\n",
        "\n",
        "  if len(control_gates) == 2:\n",
        "    q_circuit.cx(0, 1)\n",
        "    if gate == 'ry':\n",
        "        q_circuit.ry(theta_angles[0], 1)\n",
        "    elif gate == 'rz':\n",
        "        q_circuit.rz(theta_angles[0], 1)\n",
        "\n",
        "  for i in range(len(control_gates)-2, 0, -1):\n",
        "    # aply cx gates\n",
        "    j = control_gates[i]\n",
        "    while j != target:\n",
        "      q_circuit.cx(j, j+1)\n",
        "      j += 1\n",
        "\n",
        "    # apply rotation gates\n",
        "    if gate == 'ry':\n",
        "        q_circuit.ry(theta_angles[i], target)\n",
        "    elif gate == 'rz':\n",
        "        q_circuit.rz(theta_angles[i], target)\n",
        "    "
      ],
      "metadata": {
        "id": "tyacwGYcHSz4"
      },
      "execution_count": 8,
      "outputs": []
    },
    {
      "cell_type": "markdown",
      "source": [
        "## Mottonen State Preparation Function\n",
        " \n",
        " The `state_prep()` function prepares the Mottonen State of an input vector. The input vector is normalized firstly. The rotation angles $\\alpha_y$ and $\\alpha_z$ for the $R_y$ and $R_z$ quantum gates are calculated based on the magnitude and phase of the input vector. The output of the function is the Mottonen State prepared and equals to the normalized initial state up to a global phase which is not observable. The second curcuit prepared is the inverse of the initial.\n"
      ],
      "metadata": {
        "id": "lNMSR3NF243i"
      }
    },
    {
      "cell_type": "code",
      "source": [
        "def state_prep(input_vector):\n",
        "  \"\"\"\n",
        "  Prepares the Mottonen State as descibed in the research paper by Mottonen et. al.\n",
        "  The circuit of the state decompisition is printed.\n",
        "  Note, that the Mottonen State is equal to the final state. The difference \n",
        "  between final state and the initial state is in a global phase which is not \n",
        "  observable. The state returned is a normalized version of the initial state.\n",
        "\n",
        "  Args:\n",
        "   input_vector: (np.array), array that contains values of the size 2^n to be \n",
        "                  prepared as Mottonen State.\n",
        "  Returns:\n",
        "    mottonen_state: the Mottonen state preparation of the input_vector.\n",
        "    sheme of circuit: a class of 'qiskit.visualization.text.TextDrawing', the\n",
        "                  graphical representation of the quantum circuit decomposed.\n",
        "  \"\"\"\n",
        "\n",
        "  # normalize state\n",
        "  state = input_vector / np.linalg.norm(input_vector)\n",
        " \n",
        "  # get number of qubits for circuit based on the lenght of the state\n",
        "  num_qubits = int(math.log2(len(state)))\n",
        "\n",
        "  qc = QuantumCircuit(num_qubits)\n",
        "\n",
        "  phases = get_phases(state)\n",
        "  angles_alpha_z = [alpha_z(phases, num_qubits, k) for k in range(1, num_qubits+1)]\n",
        "  angles_alpha_y = [alpha_y(state, num_qubits, k) for k in range(1, num_qubits+1)]\n",
        "\n",
        "  # sequence of control rz gates\n",
        "  for control in range(num_qubits-1,  0, -1):\n",
        "      apply_gate_sequence(qc, 'rz', angles_alpha_z, control, control)\n",
        "  qc.rz(angles_alpha_z[num_qubits-1], num_qubits-1)\n",
        "\n",
        "  # sequence of control ry gates\n",
        "  for control in range(num_qubits-1,  0, -1):\n",
        "      apply_gate_sequence(qc, 'ry', angles_alpha_y, control, control)\n",
        "  qc.ry(angles_alpha_y[num_qubits-1], num_qubits-1)\n",
        "\n",
        "  # inverse the circuit to prepare the second circuit.\n",
        "  qc_inv = qc.inverse()\n",
        "  qc = qc.compose(qc_inv)\n",
        "\n",
        "  return state, qc.draw()"
      ],
      "metadata": {
        "id": "1gS61hD3rpnp"
      },
      "execution_count": 9,
      "outputs": []
    },
    {
      "cell_type": "code",
      "source": [
        "input_states =[[1-3j, 5+10j], [1-2j, 3+1j, 4j, 5], [1-3j, 5+10j, 1-2j, 3+1j, 7j, 3, -3-6j, -10+1j]]\n",
        "\n",
        "for state in input_states:\n",
        "  state_prepared, circuit_representation = state_prep(np.asarray(state))\n",
        "  print(\"Initial state is \\n {}\". format(state))\n",
        "  print(\"Mottonen state prepared is \\n {} .\". format(state_prepared))\n",
        "  print(\"Quantum circuit: \\n\", circuit_representation)\n",
        "  print(\"=========================\")"
      ],
      "metadata": {
        "id": "IApEdg8S7EiG",
        "colab": {
          "base_uri": "https://localhost:8080/"
        },
        "outputId": "d0967e7b-4907-405b-bfa2-2e38925d7f6f"
      },
      "execution_count": 10,
      "outputs": [
        {
          "output_type": "stream",
          "name": "stdout",
          "text": [
            "Initial state is \n",
            " [(1-3j), (5+10j)]\n",
            "Mottonen state prepared is \n",
            " [0.0860663 -0.25819889j 0.43033148+0.86066297j] .\n",
            "Quantum circuit: \n",
            "    ┌──────────┐┌────────────┐┌─────────────┐┌───────────┐\n",
            "q: ┤ Rz(3π/4) ├┤ Ry(2.5903) ├┤ Ry(-2.5903) ├┤ Rz(-3π/4) ├\n",
            "   └──────────┘└────────────┘└─────────────┘└───────────┘\n",
            "=========================\n",
            "Initial state is \n",
            " [(1-2j), (3+1j), 4j, 5]\n",
            "Mottonen state prepared is \n",
            " [0.13363062-0.26726124j 0.40089186+0.13363062j 0.        +0.53452248j\n",
            " 0.6681531 +0.j        ] .\n",
            "Quantum circuit: \n",
            "                                                                      »\n",
            "q_0: ──■──────────────────────────────■──────────────────────────────»\n",
            "     ┌─┴─┐┌────────────┐┌──────────┐┌─┴─┐┌────────────┐┌────────────┐»\n",
            "q_1: ┤ X ├┤ Rz(0.5181) ├┤ Rz(3π/8) ├┤ X ├┤ Ry(1.9386) ├┤ Ry(2.0536) ├»\n",
            "     └───┘└────────────┘└──────────┘└───┘└────────────┘└────────────┘»\n",
            "«                                                                         \n",
            "«q_0: ────────────────────────────────■────────────────────────────────■──\n",
            "«     ┌─────────────┐┌─────────────┐┌─┴─┐┌───────────┐┌─────────────┐┌─┴─┐\n",
            "«q_1: ┤ Ry(-2.0536) ├┤ Ry(-1.9386) ├┤ X ├┤ Rz(-3π/8) ├┤ Rz(-0.5181) ├┤ X ├\n",
            "«     └─────────────┘└─────────────┘└───┘└───────────┘└─────────────┘└───┘\n",
            "=========================\n",
            "Initial state is \n",
            " [(1-3j), (5+10j), (1-2j), (3+1j), 7j, 3, (-3-6j), (-10+1j)]\n",
            "Mottonen state prepared is \n",
            " [ 0.0531494-0.1594482j  0.265747 +0.531494j   0.0531494-0.1062988j\n",
            "  0.1594482+0.0531494j  0.       +0.3720458j  0.1594482+0.j\n",
            " -0.1594482-0.3188964j -0.531494 +0.0531494j] .\n",
            "Quantum circuit: \n",
            "                                                                          »\n",
            "q_0: ──■────────────────────────────────■────────────────────────■───────»\n",
            "     ┌─┴─┐                            ┌─┴─┐      ┌────────────┐┌─┴─┐     »\n",
            "q_1: ┤ X ├──■──────────────────■──────┤ X ├──────┤ Rz(3.7818) ├┤ X ├──■──»\n",
            "     └───┘┌─┴─┐┌────────────┐┌─┴─┐┌───┴───┴────┐┌┴────────────┤└───┘┌─┴─┐»\n",
            "q_2: ─────┤ X ├┤ Rz(1.4527) ├┤ X ├┤ Rz(2.1926) ├┤ Rz(0.87639) ├─────┤ X ├»\n",
            "          └───┘└────────────┘└───┘└────────────┘└─────────────┘     └───┘»\n",
            "«                                                                     »\n",
            "«q_0: ───────────────────────────■────────────────────────────────────»\n",
            "«                              ┌─┴─┐     ┌────────────┐┌─────────────┐»\n",
            "«q_1: ─────────────────■───────┤ X ├─────┤ Ry(2.5847) ├┤ Ry(-2.5847) ├»\n",
            "«     ┌─────────────┐┌─┴─┐┌────┴───┴────┐├────────────┤├─────────────┤»\n",
            "«q_2: ┤ Ry(0.43036) ├┤ X ├┤ Ry(0.55219) ├┤ Ry(1.7239) ├┤ Ry(-1.7239) ├»\n",
            "«     └─────────────┘└───┘└─────────────┘└────────────┘└─────────────┘»\n",
            "«                                                                              »\n",
            "«q_0: ───────■─────────────────────────────────────────■───────────────────────»\n",
            "«          ┌─┴─┐                                     ┌─┴─┐      ┌─────────────┐»\n",
            "«q_1: ─────┤ X ├────────■────────────────────■───────┤ X ├──────┤ Rz(-3.7818) ├»\n",
            "«     ┌────┴───┴─────┐┌─┴─┐┌──────────────┐┌─┴─┐┌────┴───┴─────┐├─────────────┤»\n",
            "«q_2: ┤ Ry(-0.55219) ├┤ X ├┤ Ry(-0.43036) ├┤ X ├┤ Rz(-0.87639) ├┤ Rz(-2.1926) ├»\n",
            "«     └──────────────┘└───┘└──────────────┘└───┘└──────────────┘└─────────────┘»\n",
            "«                                        \n",
            "«q_0: ──■─────────────────────────────■──\n",
            "«     ┌─┴─┐                         ┌─┴─┐\n",
            "«q_1: ┤ X ├──■───────────────────■──┤ X ├\n",
            "«     └───┘┌─┴─┐┌─────────────┐┌─┴─┐└───┘\n",
            "«q_2: ─────┤ X ├┤ Rz(-1.4527) ├┤ X ├─────\n",
            "«          └───┘└─────────────┘└───┘     \n",
            "=========================\n"
          ]
        }
      ]
    },
    {
      "cell_type": "markdown",
      "source": [
        "## References\n",
        "\n",
        "1. [Gray Code. Wikipedia](https://en.wikipedia.org/wiki/Gray_code).\n",
        "2. [Bitwise Inner Product and Orthogonality. StackExchange](https://math.stackexchange.com/questions/2884507/bitwise-inner-product-and-orthogonality)\n",
        "3. [Mottonen, M. et. al., *Transformation of Quantum States Using Uniformly Controlled Rotations*, 2008](https://arxiv.org/pdf/quant-ph/0407010.pdf).\n",
        "4. [Mottonen, M. et. al., *Quantum Circuit for General Multi-Qubit Gates*, 2008.](https://arxiv.org/pdf/quant-ph/0404089.pdf).\n"
      ],
      "metadata": {
        "id": "W5StAbjeN_rg"
      }
    },
    {
      "cell_type": "markdown",
      "source": [
        "*Note to the QOSF Cometee.* Due to a tech issue, I have received an invitation to complete a technical assessmnet one week later. Therefore, the official deadline was extended by a week and the QOSF mentors were notified about this issue. "
      ],
      "metadata": {
        "id": "DFRCOMloAYcZ"
      }
    },
    {
      "cell_type": "code",
      "source": [],
      "metadata": {
        "id": "taj3ameACNFl"
      },
      "execution_count": null,
      "outputs": []
    }
  ]
}